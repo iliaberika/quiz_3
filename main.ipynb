{
 "cells": [
  {
   "cell_type": "code",
   "execution_count": 1,
   "metadata": {},
   "outputs": [
    {
     "ename": "ModuleNotFoundError",
     "evalue": "No module named 'requests'",
     "output_type": "error",
     "traceback": [
      "\u001b[1;31m---------------------------------------------------------------------------\u001b[0m",
      "\u001b[1;31mModuleNotFoundError\u001b[0m                       Traceback (most recent call last)",
      "Cell \u001b[1;32mIn[1], line 3\u001b[0m\n\u001b[0;32m      1\u001b[0m \u001b[39m# requests module methods\u001b[39;00m\n\u001b[1;32m----> 3\u001b[0m \u001b[39mimport\u001b[39;00m \u001b[39mrequests\u001b[39;00m\n\u001b[0;32m      5\u001b[0m url \u001b[39m=\u001b[39m \u001b[39m\"\u001b[39m\u001b[39mhttps://www.arbeitnow.com/api/job-board-api\u001b[39m\u001b[39m\"\u001b[39m\n\u001b[0;32m      8\u001b[0m response \u001b[39m=\u001b[39m requests\u001b[39m.\u001b[39mget(url)\n",
      "\u001b[1;31mModuleNotFoundError\u001b[0m: No module named 'requests'"
     ]
    }
   ],
   "source": [
    "\n",
    "import requests\n",
    "\n",
    "url = \"https://www.arbeitnow.com/api/job-board-api\"\n",
    "\n",
    "\n",
    "response = requests.get(url)\n",
    "\n",
    "status_code = response.status_code\n",
    "# print(\"Status code:\", status_code)\n",
    "\n",
    "\n",
    "headers = response.headers\n",
    "# print(\"Headers:\", headers)\n",
    "\n",
    "content = response.content\n",
    "# print(\"Response content:\", content)\n"
   ]
  },
  {
   "cell_type": "code",
   "execution_count": null,
   "metadata": {},
   "outputs": [],
   "source": [
    "# get data and save to json\n",
    "\n",
    "import requests\n",
    "\n",
    "import json\n",
    "\n",
    "res = requests.get(\"https://www.arbeitnow.com/api/job-board-api\")\n",
    "\n",
    "data = res.json()[\"data\"]\n",
    "\n",
    "# შეინახეთ json ფორმატის მონაცემი json\n",
    "# ფაილში სტრუქტურული სახით (json მოდულის ფუნქციის გამოყენებით)\n",
    "\n",
    "with open(\"data.json\", \"w\") as f:\n",
    "    f.write(json.dumps(data, indent=2))\n"
   ]
  },
  {
   "cell_type": "code",
   "execution_count": null,
   "metadata": {},
   "outputs": [
    {
     "data": {
      "text/html": [
       "<div>\n",
       "<style scoped>\n",
       "    .dataframe tbody tr th:only-of-type {\n",
       "        vertical-align: middle;\n",
       "    }\n",
       "\n",
       "    .dataframe tbody tr th {\n",
       "        vertical-align: top;\n",
       "    }\n",
       "\n",
       "    .dataframe thead th {\n",
       "        text-align: right;\n",
       "    }\n",
       "</style>\n",
       "<table border=\"1\" class=\"dataframe\">\n",
       "  <thead>\n",
       "    <tr style=\"text-align: right;\">\n",
       "      <th></th>\n",
       "      <th>company_name</th>\n",
       "      <th>title</th>\n",
       "      <th>url</th>\n",
       "      <th>location</th>\n",
       "      <th>created_at</th>\n",
       "    </tr>\n",
       "  </thead>\n",
       "  <tbody>\n",
       "    <tr>\n",
       "      <th>12</th>\n",
       "      <td>Syntax Institut</td>\n",
       "      <td>HR Manager/in mit Schwerpunkt Recruiting für s...</td>\n",
       "      <td>https://www.arbeitnow.com/jobs/companies/synta...</td>\n",
       "      <td>Berlin</td>\n",
       "      <td>2023-05-24 21:49:05</td>\n",
       "    </tr>\n",
       "    <tr>\n",
       "      <th>18</th>\n",
       "      <td>notus</td>\n",
       "      <td>Virtual Assistant</td>\n",
       "      <td>https://www.arbeitnow.com/jobs/companies/notus...</td>\n",
       "      <td>Berlin</td>\n",
       "      <td>2023-05-24 21:49:05</td>\n",
       "    </tr>\n",
       "    <tr>\n",
       "      <th>20</th>\n",
       "      <td>expertcloud.de GmbH</td>\n",
       "      <td>Freelancer*in (m/w/d) für telefonischen Suppor...</td>\n",
       "      <td>https://www.arbeitnow.com/jobs/companies/exper...</td>\n",
       "      <td>Berlin</td>\n",
       "      <td>2023-05-24 21:49:05</td>\n",
       "    </tr>\n",
       "    <tr>\n",
       "      <th>28</th>\n",
       "      <td>Käsmayr GmbH</td>\n",
       "      <td>Werkstundent*in im eCommerce Content Managemen...</td>\n",
       "      <td>https://www.arbeitnow.com/jobs/companies/kasma...</td>\n",
       "      <td>Walldorf</td>\n",
       "      <td>2023-05-24 21:49:05</td>\n",
       "    </tr>\n",
       "    <tr>\n",
       "      <th>37</th>\n",
       "      <td>Kaufland e-commerce</td>\n",
       "      <td>Android Engineer (f/m/d)</td>\n",
       "      <td>https://www.arbeitnow.com/jobs/companies/kaufl...</td>\n",
       "      <td>Cologne</td>\n",
       "      <td>2023-05-24 19:49:05</td>\n",
       "    </tr>\n",
       "    <tr>\n",
       "      <th>47</th>\n",
       "      <td>myTalentscout GmbH</td>\n",
       "      <td>Ocean´s 13 war gestern - Die 13 vom See brauch...</td>\n",
       "      <td>https://www.arbeitnow.com/jobs/companies/mytal...</td>\n",
       "      <td>Starnberg</td>\n",
       "      <td>2023-05-24 19:49:05</td>\n",
       "    </tr>\n",
       "    <tr>\n",
       "      <th>50</th>\n",
       "      <td>markt + forschung UG</td>\n",
       "      <td>Nebenverdienst Umfrage/Studie - 80€ Honorar</td>\n",
       "      <td>https://www.arbeitnow.com/jobs/companies/markt...</td>\n",
       "      <td>Recklinghausen</td>\n",
       "      <td>2023-05-24 19:49:05</td>\n",
       "    </tr>\n",
       "    <tr>\n",
       "      <th>58</th>\n",
       "      <td>Kaufland e-commerce</td>\n",
       "      <td>IOS Engineer (f/m/d)</td>\n",
       "      <td>https://www.arbeitnow.com/jobs/companies/kaufl...</td>\n",
       "      <td>Cologne</td>\n",
       "      <td>2023-05-24 19:49:05</td>\n",
       "    </tr>\n",
       "    <tr>\n",
       "      <th>86</th>\n",
       "      <td>Intercon Solutions GmbH IT Experts</td>\n",
       "      <td>PHP-Entwickler (m/w/d) gesucht!</td>\n",
       "      <td>https://www.arbeitnow.com/jobs/companies/inter...</td>\n",
       "      <td>Limburg</td>\n",
       "      <td>2023-05-24 19:49:04</td>\n",
       "    </tr>\n",
       "  </tbody>\n",
       "</table>\n",
       "</div>"
      ],
      "text/plain": [
       "                          company_name  \\\n",
       "12                     Syntax Institut   \n",
       "18                               notus   \n",
       "20                 expertcloud.de GmbH   \n",
       "28                        Käsmayr GmbH   \n",
       "37                 Kaufland e-commerce   \n",
       "47                  myTalentscout GmbH   \n",
       "50                markt + forschung UG   \n",
       "58                 Kaufland e-commerce   \n",
       "86  Intercon Solutions GmbH IT Experts   \n",
       "\n",
       "                                                title  \\\n",
       "12  HR Manager/in mit Schwerpunkt Recruiting für s...   \n",
       "18                                  Virtual Assistant   \n",
       "20  Freelancer*in (m/w/d) für telefonischen Suppor...   \n",
       "28  Werkstundent*in im eCommerce Content Managemen...   \n",
       "37                           Android Engineer (f/m/d)   \n",
       "47  Ocean´s 13 war gestern - Die 13 vom See brauch...   \n",
       "50        Nebenverdienst Umfrage/Studie - 80€ Honorar   \n",
       "58                               IOS Engineer (f/m/d)   \n",
       "86                    PHP-Entwickler (m/w/d) gesucht!   \n",
       "\n",
       "                                                  url        location  \\\n",
       "12  https://www.arbeitnow.com/jobs/companies/synta...          Berlin   \n",
       "18  https://www.arbeitnow.com/jobs/companies/notus...          Berlin   \n",
       "20  https://www.arbeitnow.com/jobs/companies/exper...          Berlin   \n",
       "28  https://www.arbeitnow.com/jobs/companies/kasma...        Walldorf   \n",
       "37  https://www.arbeitnow.com/jobs/companies/kaufl...         Cologne   \n",
       "47  https://www.arbeitnow.com/jobs/companies/mytal...       Starnberg   \n",
       "50  https://www.arbeitnow.com/jobs/companies/markt...  Recklinghausen   \n",
       "58  https://www.arbeitnow.com/jobs/companies/kaufl...         Cologne   \n",
       "86  https://www.arbeitnow.com/jobs/companies/inter...         Limburg   \n",
       "\n",
       "             created_at  \n",
       "12  2023-05-24 21:49:05  \n",
       "18  2023-05-24 21:49:05  \n",
       "20  2023-05-24 21:49:05  \n",
       "28  2023-05-24 21:49:05  \n",
       "37  2023-05-24 19:49:05  \n",
       "47  2023-05-24 19:49:05  \n",
       "50  2023-05-24 19:49:05  \n",
       "58  2023-05-24 19:49:05  \n",
       "86  2023-05-24 19:49:04  "
      ]
     },
     "execution_count": 3,
     "metadata": {},
     "output_type": "execute_result"
    }
   ],
   "source": [
    "\n",
    "\n",
    "import pandas as pd\n",
    "import json\n",
    "import datetime\n",
    "\n",
    "with open(\"data.json\") as f:\n",
    "    data = json.loads(f.read())\n",
    "\n",
    "df = pd.DataFrame(data)\n",
    "\n",
    "\n",
    "df[\"created_at\"] = df[\"created_at\"].apply(\n",
    "    lambda x: datetime.datetime.fromtimestamp(x).strftime('%Y-%m-%d %H:%M:%S'))\n",
    "\n",
    "remotes = df[df[\"remote\"] == True]\n",
    "\n",
    "remote_titles = remotes[\"title\"]\n",
    "remote_times = remotes[\"created_at\"]\n",
    "\n",
    "\n",
    "\n",
    "remotes = remotes.drop(\n",
    "    [\"slug\", \"description\", \"remote\", \"job_types\", \"tags\"], axis=1)\n",
    "\n",
    "# remotes = remotes.reset_index(drop=True)\n",
    "# remotes.index = remotes.index + 1\n",
    "\n",
    "remotes.to_csv(\"remote_jobs.csv\")\n",
    "\n",
    "remotes.to_html(\"remote_jobs.html\", render_links=True,\n",
    "                justify=\"center\")\n",
    "remotes\n"
   ]
  },
  {
   "cell_type": "code",
   "execution_count": null,
   "metadata": {},
   "outputs": [],
   "source": [
    "# create database\n",
    "\n",
    "import pandas as pd\n",
    "import sqlite3\n",
    "\n",
    "\n",
    "conn = sqlite3.connect(\"Base.sqlite\")\n",
    "\n",
    "\n",
    "df = pd.read_csv(\"remote_jobs.csv\")\n",
    "\n",
    "remotes.to_sql(\"Jobs\", conn, if_exists='append', index=False)\n",
    "\n",
    "\n",
    "conn.close()\n"
   ]
  },
  {
   "cell_type": "code",
   "execution_count": null,
   "metadata": {},
   "outputs": [
    {
     "name": "stdout",
     "output_type": "stream",
     "text": [
      "Requirement already satisfied: plyer in c:\\users\\admin\\appdata\\local\\programs\\python\\python311\\lib\\site-packages (2.1.0)"
     ]
    },
    {
     "name": "stderr",
     "output_type": "stream",
     "text": [
      "\n",
      "[notice] A new release of pip is available: 23.0.1 -> 23.1.2\n",
      "[notice] To update, run: python.exe -m pip install --upgrade pip\n"
     ]
    },
    {
     "name": "stdout",
     "output_type": "stream",
     "text": [
      "\n"
     ]
    }
   ],
   "source": [
    "! pip install plyer\n"
   ]
  },
  {
   "cell_type": "code",
   "execution_count": null,
   "metadata": {},
   "outputs": [
    {
     "name": "stderr",
     "output_type": "stream",
     "text": [
      "WNDPROC return value cannot be converted to LRESULT\n"
     ]
    },
    {
     "ename": "TypeError",
     "evalue": "WPARAM is simple, so must be an int object (got NoneType)",
     "output_type": "error",
     "traceback": [
      "\u001b[1;31m---------------------------------------------------------------------------\u001b[0m",
      "\u001b[1;31mTypeError\u001b[0m                                 Traceback (most recent call last)",
      "\u001b[1;31mTypeError\u001b[0m: WPARAM is simple, so must be an int object (got NoneType)"
     ]
    }
   ],
   "source": [
    "import requests\n",
    "from win10toast import ToastNotifier\n",
    "import pandas as pd\n",
    "\n",
    "\n",
    "url = \"https://www.arbeitnow.com/api/job-board-api\"\n",
    "\n",
    "\n",
    "toaster = ToastNotifier()\n",
    "\n",
    "response = requests.get(url)\n",
    "\n",
    "\n",
    "if response.status_code == 200:\n",
    "   \n",
    "    data = response.json()[\"data\"]\n",
    "    df = pd.DataFrame(data)\n",
    "    remotes = df[df[\"remote\"] == True]\n",
    "\n",
    " \n",
    "    toaster.show_toast(\"new remote jobs from countries: \",\n",
    "                       \" \".join(remotes[\"location\"]))\n",
    "else:\n",
    "    print(\"API request failed.\")\n"
   ]
  },
  {
   "cell_type": "code",
   "execution_count": 2,
   "metadata": {},
   "outputs": [
    {
     "ename": "ModuleNotFoundError",
     "evalue": "No module named 'requests'",
     "output_type": "error",
     "traceback": [
      "\u001b[1;31m---------------------------------------------------------------------------\u001b[0m",
      "\u001b[1;31mModuleNotFoundError\u001b[0m                       Traceback (most recent call last)",
      "Cell \u001b[1;32mIn[2], line 1\u001b[0m\n\u001b[1;32m----> 1\u001b[0m \u001b[39mimport\u001b[39;00m \u001b[39mrequests\u001b[39;00m\n\u001b[0;32m      2\u001b[0m \u001b[39mfrom\u001b[39;00m \u001b[39mplyer\u001b[39;00m \u001b[39mimport\u001b[39;00m notification\n\u001b[0;32m      3\u001b[0m \u001b[39mimport\u001b[39;00m \u001b[39mpandas\u001b[39;00m \u001b[39mas\u001b[39;00m \u001b[39mpd\u001b[39;00m\n",
      "\u001b[1;31mModuleNotFoundError\u001b[0m: No module named 'requests'"
     ]
    }
   ],
   "source": [
    "import requests\n",
    "from plyer import notification\n",
    "import pandas as pd\n",
    "\n",
    "\n",
    "url = \"https://www.arbeitnow.com/api/job-board-api\"\n",
    "\n",
    "\n",
    "response = requests.get(url)\n",
    "\n",
    "if response.status_code == 200:\n",
    "  \n",
    "    data = response.json()[\"data\"]\n",
    "    df = pd.DataFrame(data)\n",
    "    remotes = df[df[\"remote\"] == True]\n",
    "\n",
    "\n",
    "    notification.notify(title=\"new remote jobs from countries: \",\n",
    "                        message=\" \".join(remotes[\"location\"]))\n",
    "\n",
    "else:\n",
    "    print(\"API request failed.\")\n"
   ]
  }
 ],
 "metadata": {
  "kernelspec": {
   "display_name": "Python 3",
   "language": "python",
   "name": "python3"
  },
  "language_info": {
   "codemirror_mode": {
    "name": "ipython",
    "version": 3
   },
   "file_extension": ".py",
   "mimetype": "text/x-python",
   "name": "python",
   "nbconvert_exporter": "python",
   "pygments_lexer": "ipython3",
   "version": "3.10.7"
  },
  "orig_nbformat": 4
 },
 "nbformat": 4,
 "nbformat_minor": 2
}
